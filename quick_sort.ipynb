{
 "cells": [
  {
   "cell_type": "markdown",
   "metadata": {},
   "source": [
    "# Version1\n",
    "- len(arr) <= 1\n",
    "- lesser, equal, greater\n",
    "- 재귀함수\n",
    "- 출처:https://www.daleseo.com/sort-quick/"
   ]
  },
  {
   "cell_type": "code",
   "execution_count": null,
   "metadata": {},
   "outputs": [],
   "source": [
    "def quick_sort(arr):\n",
    "    if len(arr) <=1:\n",
    "        return arr\n",
    "    pivot = arr[len(arr)//2]\n",
    "    lesser_arr, equal_arr, greater_arr = [], [], []\n",
    "    for num in arr:\n",
    "        if num < pivot:\n",
    "            lesser_arr.append(num)\n",
    "        elif num > pivot:\n",
    "            greater_arr.append(num)\n",
    "        else:\n",
    "            equal_arr.append(num)\n",
    "    return quick_sort(lesser_arr) + equal_arr + quick_sort(greater_arr)"
   ]
  },
  {
   "cell_type": "markdown",
   "metadata": {},
   "source": [
    "# Version2\n",
    "- len(arr) > 1\n",
    "- left, mid, right\n",
    "- 재귀함수\n",
    "- 출처:https://debuglog.tistory.com/67"
   ]
  },
  {
   "cell_type": "code",
   "execution_count": null,
   "metadata": {},
   "outputs": [],
   "source": [
    "def quick_sorted(arr):\n",
    "    if len(arr) > 1:\n",
    "        pivot = arr[len(arr)-1]\n",
    "        left, mid, right = [], [], []\n",
    "        for i in range(len(arr)-1):\n",
    "            if arr[i] < pivot:\n",
    "                left.append(arr[i])\n",
    "            elif arr[i] > pivot:\n",
    "                right.append(arr[i])\n",
    "            else:\n",
    "                mid.append(arr[i])\n",
    "        mid.append(pivot)\n",
    "        return quick_sorted(left) + mid + quick_sorted(right)\n",
    "    else:\n",
    "        return arr"
   ]
  }
 ],
 "metadata": {
  "kernelspec": {
   "display_name": "Python 3",
   "language": "python",
   "name": "python3"
  },
  "language_info": {
   "codemirror_mode": {
    "name": "ipython",
    "version": 3
   },
   "file_extension": ".py",
   "mimetype": "text/x-python",
   "name": "python",
   "nbconvert_exporter": "python",
   "pygments_lexer": "ipython3",
   "version": "3.7.3"
  }
 },
 "nbformat": 4,
 "nbformat_minor": 2
}
