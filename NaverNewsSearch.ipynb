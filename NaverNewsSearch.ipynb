{
 "cells": [
  {
   "cell_type": "markdown",
   "metadata": {},
   "source": [
    "# 안 쓰게 된 이유\n",
    "- Naver Open API 속도가 약 3배 빠르다. (0.13 vs 0.50)\n",
    "- Naver Open API는 간단한 코드 수정을 통해 news뿐만 아니라 blog도 스크래핑할 수 있어서 편리하다."
   ]
  },
  {
   "cell_type": "code",
   "execution_count": null,
   "metadata": {},
   "outputs": [],
   "source": [
    "from bs4 import BeautifulSoup\n",
    "import requests\n",
    "\n",
    "url = 'https://search.naver.com/search.naver?where=news&sm=tab_jum'\n",
    "res = requests.get(url, params={'query':'에이치엘비'})\n",
    "soup = BeautifulSoup(res.content, 'lxml')\n",
    "titles = soup.find_all('a', class_=\"_sp_each_title\")\n",
    "for title in titles:\n",
    "    print(title['title'])\n",
    "    print(title[\"href\"])"
   ]
  }
 ],
 "metadata": {
  "kernelspec": {
   "display_name": "Python 3",
   "language": "python",
   "name": "python3"
  },
  "language_info": {
   "codemirror_mode": {
    "name": "ipython",
    "version": 3
   },
   "file_extension": ".py",
   "mimetype": "text/x-python",
   "name": "python",
   "nbconvert_exporter": "python",
   "pygments_lexer": "ipython3",
   "version": "3.7.3"
  }
 },
 "nbformat": 4,
 "nbformat_minor": 2
}
